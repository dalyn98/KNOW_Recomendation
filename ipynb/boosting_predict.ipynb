{
 "cells": [
  {
   "cell_type": "code",
   "execution_count": 1,
   "id": "e6888cd8",
   "metadata": {},
   "outputs": [],
   "source": [
    "import pandas as pd\n",
    "from glob import glob\n",
    "from tqdm import tqdm\n",
    "import warnings\n",
    "import numpy as np\n",
    "warnings.filterwarnings(action='ignore') \n",
    "know_train = [pd.read_csv(path) for path in sorted(glob('../train/*.csv'))]"
   ]
  },
  {
   "cell_type": "code",
   "execution_count": 2,
   "id": "a96fe39d",
   "metadata": {},
   "outputs": [],
   "source": [
    "for df in know_train:\n",
    "    for col in df.columns:\n",
    "        df[col].replace(' ', '0', inplace=True)"
   ]
  },
  {
   "cell_type": "code",
   "execution_count": 3,
   "id": "a4527824",
   "metadata": {},
   "outputs": [
    {
     "name": "stdout",
     "output_type": "stream",
     "text": [
      "2017\n",
      "2018\n",
      "2019\n",
      "2020\n"
     ]
    }
   ],
   "source": [
    "from sklearn.preprocessing import LabelEncoder\n",
    "years = ['2017', '2018', '2019', '2020']\n",
    "\n",
    "year_encoder = {}\n",
    "\n",
    "for year, df in zip(years, know_train):\n",
    "    print(year)\n",
    "    encoders = {}\n",
    "    \n",
    "    for col in df.columns:\n",
    "        if col == 'ID':\n",
    "            continue\n",
    "        \n",
    "        try:\n",
    "            df[col] = df[col].map(int)\n",
    "        except:\n",
    "            encoder = LabelEncoder()\n",
    "            df[col] = df[col].map(str)\n",
    "            df[col] = encoder.fit_transform(df[col])\n",
    "            encoders[col] = encoder\n",
    "            \n",
    "            \n",
    "    year_encoder[year] = encoders"
   ]
  },
  {
   "cell_type": "code",
   "execution_count": 4,
   "id": "46620e7b",
   "metadata": {},
   "outputs": [],
   "source": [
    "train_data = {}\n",
    "for year, df in zip(years, know_train):\n",
    "    train_data[year] = {'X': df.iloc[:, 1:-1], # ID제외\n",
    "                        'y': df.iloc[:, -1]} "
   ]
  },
  {
   "cell_type": "code",
   "execution_count": 5,
   "id": "0381de1c",
   "metadata": {},
   "outputs": [],
   "source": [
    "from sklearn.preprocessing import StandardScaler\n",
    "minmax = StandardScaler()\n",
    "for year in years:\n",
    "    train_data[year]['X'] = minmax.fit_transform(train_data[year]['X'])\n",
    "    train_data[year]['X'] = pd.DataFrame(train_data[year]['X'])"
   ]
  },
  {
   "cell_type": "code",
   "execution_count": 6,
   "id": "bf68b7fe",
   "metadata": {},
   "outputs": [
    {
     "name": "stderr",
     "output_type": "stream",
     "text": [
      "100%|████████████████████████████████████████████████████████████████████████████████████| 4/4 [00:00<00:00, 88.59it/s]\n"
     ]
    }
   ],
   "source": [
    "from sklearn.model_selection import train_test_split\n",
    "\n",
    "split_data = {}\n",
    "for year in tqdm(years):\n",
    "    X_train,X_test,y_train,y_test = train_test_split(train_data[year]['X'],train_data[year]['y'],test_size=0.25, random_state=42)\n",
    "    split_data[year] = {'X_train' : X_train,\n",
    "                       'y_train' : y_train,\n",
    "                       'X_test' : X_test,\n",
    "                       'y_test' : y_test}"
   ]
  },
  {
   "cell_type": "code",
   "execution_count": 7,
   "id": "feda357d",
   "metadata": {},
   "outputs": [],
   "source": [
    "from xgboost import XGBClassifier\n",
    "from lightgbm import LGBMClassifier"
   ]
  },
  {
   "cell_type": "code",
   "execution_count": 8,
   "id": "6ecd36e5",
   "metadata": {},
   "outputs": [
    {
     "name": "stderr",
     "output_type": "stream",
     "text": [
      "100%|███████████████████████████████████████████████████████████████████████████████████| 4/4 [14:06<00:00, 211.67s/it]\n"
     ]
    }
   ],
   "source": [
    "\n",
    "xg_models = {}\n",
    "\n",
    "for year in tqdm(years):\n",
    "    model = XGBClassifier(random_state=1,eval_metric = 'mlogloss')\n",
    "    model.fit(split_data[year]['X_train'], split_data[year]['y_train'])\n",
    "    xg_models[year] = model"
   ]
  },
  {
   "cell_type": "code",
   "execution_count": 9,
   "id": "8e74bc7c",
   "metadata": {},
   "outputs": [
    {
     "name": "stderr",
     "output_type": "stream",
     "text": [
      "100%|████████████████████████████████████████████████████████████████████████████████████| 4/4 [00:01<00:00,  3.44it/s]\n"
     ]
    },
    {
     "data": {
      "text/plain": [
       "0.5355550670591046"
      ]
     },
     "execution_count": 9,
     "metadata": {},
     "output_type": "execute_result"
    }
   ],
   "source": [
    "from sklearn.metrics import f1_score\n",
    "xg_f1 =[]\n",
    "for year in tqdm(years):\n",
    "    y_pred = xg_models[year].predict(split_data[year]['X_test'])\n",
    "    xg_f1.append(f1_score(split_data[year]['y_test'],y_pred,average ='micro'))\n",
    "np.mean(xg_f1)"
   ]
  },
  {
   "cell_type": "code",
   "execution_count": null,
   "id": "e40d2a63",
   "metadata": {},
   "outputs": [],
   "source": [
    "\n",
    "\n",
    "lg_models = {}\n",
    "\n",
    "for year in tqdm(years):\n",
    "    model = LGBMClassifier(random_state=1,objective='mlogloss')\n",
    "    model.fit(split_data[year]['X_train'], split_data[year]['y_train'])\n",
    "    lg_models[year] = model"
   ]
  },
  {
   "cell_type": "code",
   "execution_count": null,
   "id": "7196af16",
   "metadata": {},
   "outputs": [],
   "source": [
    "from sklearn.metrics import f1_score\n",
    "lg_f1 =[]\n",
    "for year in tqdm(years):\n",
    "    y_pred = lg_models[year].predict(split_data[year]['X_test'])\n",
    "    lg_f1.append(f1_score(split_data[year]['y_test'],y_pred,average ='micro'))\n",
    "np.mean(lg_f1)"
   ]
  },
  {
   "cell_type": "code",
   "execution_count": null,
   "id": "8cf569ea",
   "metadata": {},
   "outputs": [],
   "source": []
  },
  {
   "cell_type": "code",
   "execution_count": null,
   "id": "fb518e44",
   "metadata": {},
   "outputs": [],
   "source": []
  },
  {
   "cell_type": "code",
   "execution_count": null,
   "id": "d770a8e7",
   "metadata": {},
   "outputs": [],
   "source": []
  },
  {
   "cell_type": "code",
   "execution_count": null,
   "id": "966fb6fb",
   "metadata": {},
   "outputs": [],
   "source": []
  },
  {
   "cell_type": "code",
   "execution_count": null,
   "id": "34ae729b",
   "metadata": {},
   "outputs": [],
   "source": []
  },
  {
   "cell_type": "code",
   "execution_count": null,
   "id": "ee0e60cb",
   "metadata": {},
   "outputs": [],
   "source": []
  },
  {
   "cell_type": "code",
   "execution_count": null,
   "id": "97170932",
   "metadata": {},
   "outputs": [],
   "source": []
  },
  {
   "cell_type": "code",
   "execution_count": null,
   "id": "e9f98968",
   "metadata": {},
   "outputs": [],
   "source": []
  }
 ],
 "metadata": {
  "kernelspec": {
   "display_name": "Python 3",
   "language": "python",
   "name": "python3"
  },
  "language_info": {
   "codemirror_mode": {
    "name": "ipython",
    "version": 3
   },
   "file_extension": ".py",
   "mimetype": "text/x-python",
   "name": "python",
   "nbconvert_exporter": "python",
   "pygments_lexer": "ipython3",
   "version": "3.8.8"
  }
 },
 "nbformat": 4,
 "nbformat_minor": 5
}
